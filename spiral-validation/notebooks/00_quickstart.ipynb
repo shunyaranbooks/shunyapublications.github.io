{
 "cells": [
  {
   "cell_type": "code",
   "execution_count": null,
   "metadata": {},
   "outputs": [],
   "source": [
    "# Ensure deps inside Binder if the image didn't preinstall them\\n",
    "import sys, subprocess, importlib\\n",
    "\\n",
    "def ensure(pkg, spec=None):\\n",
    "    try:\\n",
    "        importlib.import_module(pkg)\\n",
    "    except ImportError:\\n",
    "        to_install = spec or pkg\\n",
    "        subprocess.check_call([sys.executable, '-m', 'pip', 'install', '-q', to_install])\\n",
    "\\n",
    "ensure('pandas','pandas==2.2.2')\\n",
    "ensure('numpy','numpy==1.26.4')\\n",
    "ensure('matplotlib','matplotlib==3.8.4')\\n",
    "print('✅ Environment ready')"
   ]
  },
  {
   "cell_type": "code",
   "execution_count": null,
   "metadata": {},
   "outputs": [],
   "source": [
    "import os, sys, pandas as pd\\n",
    "root = os.path.abspath(os.path.join('..'))  # parent: spiral-validation\\n",
    "if root not in sys.path: sys.path.append(root)\\n",
    "from src.spiral_metrics import compute_metrics\\n",
    "\\n",
    "df = pd.read_csv(os.path.join('..','data','sample_dialogues.csv'))\\n",
    "df.head()"
   ]
  },
  {
   "cell_type": "code",
   "execution_count": null,
   "metadata": {},
   "outputs": [],
   "source": [
    "metrics = compute_metrics(df)\\n",
    "metrics"
   ]
  },
  {
   "cell_type": "code",
   "execution_count": null,
   "metadata": {},
   "outputs": [],
   "source": [
    "import matplotlib.pyplot as plt\\n",
    "layers = ['SDI','EDS','TD','MAI']\\n",
    "values = [metrics[k] for k in layers]\\n",
    "plt.figure(figsize=(6,4))\\n",
    "plt.bar(layers, values)\\n",
    "plt.title('Spiral Metrics')\\n",
    "plt.ylabel('Value')\\n",
    "plt.ylim(0,1)\\n",
    "plt.show()"
   ]
  }
 ],
 "metadata": {
  "kernelspec": { "display_name": "Python 3", "language": "python", "name": "python3" },
  "language_info": { "name": "python", "version": "3.11" }
 },
 "nbformat": 4,
 "nbformat_minor": 5
}
