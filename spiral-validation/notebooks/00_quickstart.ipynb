# Ensure deps inside Binder even if the image didn't install them
import sys, subprocess, importlib

def ensure(pkg, spec=None):
    try:
        importlib.import_module(pkg)
    except ImportError:
        to_install = spec or pkg
        subprocess.check_call([sys.executable, "-m", "pip", "install", "-q", to_install])

ensure("pandas", "pandas==2.2.2")
ensure("numpy", "numpy==1.26.4")
ensure("matplotlib", "matplotlib==3.8.4")
